{
 "cells": [
  {
   "cell_type": "code",
   "execution_count": 1,
   "id": "614ea09d",
   "metadata": {},
   "outputs": [],
   "source": [
    "import pandas as pd\n",
    "import numpy as np\n",
    "from sklearn import metrics\n",
    "from sklearn.preprocessing import StandardScaler\n",
    "from sklearn.neighbors import KNeighborsClassifier"
   ]
  },
  {
   "cell_type": "markdown",
   "id": "45bc8bb3",
   "metadata": {},
   "source": [
    "#### Loading the dataset"
   ]
  },
  {
   "cell_type": "code",
   "execution_count": 2,
   "id": "a76737e6",
   "metadata": {},
   "outputs": [],
   "source": [
    "df = pd.read_csv('train.csv')\n",
    "tf = pd.read_csv('test.csv')"
   ]
  },
  {
   "cell_type": "markdown",
   "id": "36fbbeea",
   "metadata": {},
   "source": [
    "#### Adding the values"
   ]
  },
  {
   "cell_type": "code",
   "execution_count": 3,
   "id": "f02e01f2",
   "metadata": {},
   "outputs": [],
   "source": [
    "X_train = df.iloc[:, :-1].values\n",
    "y_train = df.iloc[:, -1].values"
   ]
  },
  {
   "cell_type": "code",
   "execution_count": 4,
   "id": "84925cf0",
   "metadata": {},
   "outputs": [],
   "source": [
    "X_test = tf.iloc[:, 1:-1].values\n",
    "y_test = tf.iloc[:, -1].values"
   ]
  },
  {
   "cell_type": "markdown",
   "id": "b2dae1fe",
   "metadata": {},
   "source": [
    "### Manhattan Distance"
   ]
  },
  {
   "cell_type": "code",
   "execution_count": 5,
   "id": "a42dfcaa",
   "metadata": {},
   "outputs": [
    {
     "name": "stdout",
     "output_type": "stream",
     "text": [
      "[[0.         1.        ]\n",
      " [0.66666667 0.33333333]\n",
      " [1.         0.        ]\n",
      " [0.         1.        ]\n",
      " [1.         0.        ]\n",
      " [0.         1.        ]\n",
      " [1.         0.        ]\n",
      " [1.         0.        ]\n",
      " [1.         0.        ]\n",
      " [1.         0.        ]\n",
      " [0.         1.        ]\n",
      " [1.         0.        ]\n",
      " [1.         0.        ]\n",
      " [1.         0.        ]\n",
      " [0.66666667 0.33333333]\n",
      " [0.         1.        ]\n",
      " [0.         1.        ]\n",
      " [1.         0.        ]\n",
      " [1.         0.        ]\n",
      " [1.         0.        ]]\n"
     ]
    }
   ],
   "source": [
    "classifier = KNeighborsClassifier(n_neighbors=3, p=1)\n",
    "classifier.fit(X_train, y_train)\n",
    "y_pred_manhattan = classifier.predict(X_test)\n",
    "y_pred_manhattan_p = classifier.predict_proba(X_test)\n",
    "print(y_pred_manhattan_p)"
   ]
  },
  {
   "cell_type": "code",
   "execution_count": 6,
   "id": "a6fde4db",
   "metadata": {},
   "outputs": [
    {
     "name": "stdout",
     "output_type": "stream",
     "text": [
      "Metrics for Manhattan Distance\n",
      "\n",
      "Confusion Matrix :\n",
      " [[14  0]\n",
      " [ 0  6]] \n",
      "\n",
      "Accuracy :  100.0 %\n",
      "\n",
      "Precision :  100.0 %\n",
      "\n",
      "F Score :  100.0 %\n",
      "\n"
     ]
    }
   ],
   "source": [
    "print(\"Metrics for Manhattan Distance\\n\")\n",
    "print(\"Confusion Matrix :\\n\",metrics.confusion_matrix(y_test, y_pred_manhattan),\"\\n\")\n",
    "print(\"Accuracy : \", round(metrics.accuracy_score(y_test, y_pred_manhattan)*100,2),\"%\\n\")\n",
    "print(\"Precision : \", round(metrics.precision_score(y_test, y_pred_manhattan)*100,2),\"%\\n\")\n",
    "print(\"F Score : \", round(metrics.f1_score(y_test, y_pred_manhattan)*100,2),\"%\\n\")"
   ]
  },
  {
   "cell_type": "markdown",
   "id": "61fce1e3",
   "metadata": {},
   "source": [
    "### Euclidean Distance"
   ]
  },
  {
   "cell_type": "code",
   "execution_count": 7,
   "id": "fd9e838f",
   "metadata": {},
   "outputs": [
    {
     "name": "stdout",
     "output_type": "stream",
     "text": [
      "[[0.         1.        ]\n",
      " [0.66666667 0.33333333]\n",
      " [1.         0.        ]\n",
      " [0.         1.        ]\n",
      " [1.         0.        ]\n",
      " [0.         1.        ]\n",
      " [1.         0.        ]\n",
      " [1.         0.        ]\n",
      " [1.         0.        ]\n",
      " [1.         0.        ]\n",
      " [0.         1.        ]\n",
      " [1.         0.        ]\n",
      " [1.         0.        ]\n",
      " [1.         0.        ]\n",
      " [0.33333333 0.66666667]\n",
      " [0.         1.        ]\n",
      " [0.         1.        ]\n",
      " [1.         0.        ]\n",
      " [1.         0.        ]\n",
      " [1.         0.        ]]\n"
     ]
    }
   ],
   "source": [
    "classifier = KNeighborsClassifier(n_neighbors=3, p=2)\n",
    "classifier.fit(X_train, y_train)\n",
    "y_pred_Euclidian = classifier.predict(X_test)\n",
    "y_pred_Euclidian_p = classifier.predict_proba(X_test)\n",
    "print(y_pred_Euclidian_p)"
   ]
  },
  {
   "cell_type": "code",
   "execution_count": 8,
   "id": "713daeec",
   "metadata": {},
   "outputs": [
    {
     "name": "stdout",
     "output_type": "stream",
     "text": [
      "Metrics for Euclidean Distance\n",
      "\n",
      "Confusion Matrix :\n",
      " [[13  1]\n",
      " [ 0  6]] \n",
      "\n",
      "Accuracy :  95.0 %\n",
      "\n",
      "Precision :  85.71 %\n",
      "\n",
      "F Score :  92.31 %\n",
      "\n"
     ]
    }
   ],
   "source": [
    "print(\"Metrics for Euclidean Distance\\n\")\n",
    "print(\"Confusion Matrix :\\n\",metrics.confusion_matrix(y_test, y_pred_Euclidian),\"\\n\")\n",
    "print(\"Accuracy : \", round(metrics.accuracy_score(y_test, y_pred_Euclidian)*100,2),\"%\\n\")\n",
    "print(\"Precision : \", round(metrics.precision_score(y_test, y_pred_Euclidian)*100,2),\"%\\n\")\n",
    "print(\"F Score : \", round(metrics.f1_score(y_test, y_pred_Euclidian)*100,2),\"%\\n\")"
   ]
  },
  {
   "cell_type": "markdown",
   "id": "f08219bf",
   "metadata": {},
   "source": [
    "## From this output we can say that both the methods have different outputs. Mahatten Distance gives accuracy, precision and F score of 100% with the given dataset compared to Euclidian. \n",
    "\n",
    "# But when we use standardScalar we obtain the same results. With the help of below Accuracy Precision and F score we can say that using Manhattan or Euclidean yeilds same performance when StandardScalar is used "
   ]
  },
  {
   "cell_type": "code",
   "execution_count": 9,
   "id": "839fda5e",
   "metadata": {},
   "outputs": [],
   "source": [
    "sc = StandardScaler()\n",
    "X_train = sc.fit_transform(X_train)\n",
    "X_test = sc.transform(X_test)"
   ]
  },
  {
   "cell_type": "code",
   "execution_count": 10,
   "id": "9081f8b7",
   "metadata": {},
   "outputs": [
    {
     "name": "stdout",
     "output_type": "stream",
     "text": [
      "Metrics for Manhattan Distance\n",
      "\n",
      "Confusion Matrix :\n",
      " [[14  0]\n",
      " [ 0  6]] \n",
      "\n",
      "Accuracy :  100.0 %\n",
      "\n",
      "Precision :  100.0 %\n",
      "\n",
      "F Score :  100.0 %\n",
      "\n"
     ]
    }
   ],
   "source": [
    "classifier = KNeighborsClassifier(n_neighbors=3, p=1)\n",
    "classifier.fit(X_train, y_train)\n",
    "y_pred_manhattan = classifier.predict(X_test)\n",
    "y_pred_manhattan_p = classifier.predict_proba(X_test)\n",
    "print(\"Metrics for Manhattan Distance\\n\")\n",
    "print(\"Confusion Matrix :\\n\",metrics.confusion_matrix(y_test, y_pred_manhattan),\"\\n\")\n",
    "print(\"Accuracy : \", round(metrics.accuracy_score(y_test, y_pred_manhattan)*100,2),\"%\\n\")\n",
    "print(\"Precision : \", round(metrics.precision_score(y_test, y_pred_manhattan)*100,2),\"%\\n\")\n",
    "print(\"F Score : \", round(metrics.f1_score(y_test, y_pred_manhattan)*100,2),\"%\\n\")"
   ]
  },
  {
   "cell_type": "code",
   "execution_count": 11,
   "id": "4321ac7a",
   "metadata": {},
   "outputs": [
    {
     "name": "stdout",
     "output_type": "stream",
     "text": [
      "Metrics for Euclidean Distance\n",
      "\n",
      "Confusion Matrix :\n",
      " [[14  0]\n",
      " [ 0  6]] \n",
      "\n",
      "Accuracy :  100.0 %\n",
      "\n",
      "Precision :  100.0 %\n",
      "\n",
      "F Score :  100.0 %\n",
      "\n"
     ]
    }
   ],
   "source": [
    "classifier = KNeighborsClassifier(n_neighbors=3, p=2)\n",
    "classifier.fit(X_train, y_train)\n",
    "y_pred_Euclidian = classifier.predict(X_test)\n",
    "y_pred_Euclidian_p = classifier.predict_proba(X_test)\n",
    "print(\"Metrics for Euclidean Distance\\n\")\n",
    "print(\"Confusion Matrix :\\n\",metrics.confusion_matrix(y_test, y_pred_Euclidian),\"\\n\")\n",
    "print(\"Accuracy : \", round(metrics.accuracy_score(y_test, y_pred_Euclidian)*100,2),\"%\\n\")\n",
    "print(\"Precision : \", round(metrics.precision_score(y_test, y_pred_Euclidian)*100,2),\"%\\n\")\n",
    "print(\"F Score : \", round(metrics.f1_score(y_test, y_pred_Euclidian)*100,2),\"%\\n\")"
   ]
  }
 ],
 "metadata": {
  "kernelspec": {
   "display_name": "Python 3",
   "language": "python",
   "name": "python3"
  },
  "language_info": {
   "codemirror_mode": {
    "name": "ipython",
    "version": 3
   },
   "file_extension": ".py",
   "mimetype": "text/x-python",
   "name": "python",
   "nbconvert_exporter": "python",
   "pygments_lexer": "ipython3",
   "version": "3.8.8"
  }
 },
 "nbformat": 4,
 "nbformat_minor": 5
}
